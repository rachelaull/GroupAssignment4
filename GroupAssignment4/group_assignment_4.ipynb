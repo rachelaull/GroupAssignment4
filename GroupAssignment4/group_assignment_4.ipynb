{
  "nbformat": 4,
  "nbformat_minor": 0,
  "metadata": {
    "colab": {
      "name": "group assignment 4.ipynb",
      "provenance": [],
      "collapsed_sections": []
    },
    "kernelspec": {
      "name": "python3",
      "display_name": "Python 3"
    }
  },
  "cells": [
    {
      "cell_type": "markdown",
      "metadata": {
        "id": "766eiuuo0qxa",
        "colab_type": "text"
      },
      "source": [
        "![alt text](https://raw.githubusercontent.com/rachelaull/GroupAssignment4/master/GroupAssignment4/Group%20Assignment%20%204%20Tables.png)"
      ]
    },
    {
      "cell_type": "code",
      "metadata": {
        "id": "oE0sN6HrE9em",
        "colab_type": "code",
        "colab": {}
      },
      "source": [
        "import sqlite3"
      ],
      "execution_count": 0,
      "outputs": []
    },
    {
      "cell_type": "code",
      "metadata": {
        "id": "5EgWuImaFhiD",
        "colab_type": "code",
        "colab": {}
      },
      "source": [
        "connectionToDatabase = sqlite3.connect('BillboardData')"
      ],
      "execution_count": 0,
      "outputs": []
    },
    {
      "cell_type": "code",
      "metadata": {
        "id": "j3RbLVocF4V6",
        "colab_type": "code",
        "colab": {}
      },
      "source": [
        "cursor = connectionToDatabase.cursor()"
      ],
      "execution_count": 0,
      "outputs": []
    },
    {
      "cell_type": "code",
      "metadata": {
        "id": "jhw3V1M2F9Ds",
        "colab_type": "code",
        "colab": {}
      },
      "source": [
        "cursor.execute('''create table IF NOT EXISTS Songs (songTitle text PRIMARY KEY, artist text, album text, company text, releaseDate text, ranking integer, genre text, streams integer, download integer)''')\n",
        "connectionToDatabase.commit()"
      ],
      "execution_count": 0,
      "outputs": []
    },
    {
      "cell_type": "code",
      "metadata": {
        "id": "UpPJPE2JIiSI",
        "colab_type": "code",
        "colab": {}
      },
      "source": [
        "cursor.execute('''create table IF NOT EXISTS Albums (albumName text PRIMARY KEY, artist text, recordCompany text, releaseDate text)''')\n",
        "connectionToDatabase.commit()"
      ],
      "execution_count": 0,
      "outputs": []
    },
    {
      "cell_type": "code",
      "metadata": {
        "id": "IUkh2NnpZkN6",
        "colab_type": "code",
        "colab": {}
      },
      "source": [
        "cursor.execute('''create table IF NOT EXISTS Artists (artistName text PRIMARY KEY, gender text, birthday date, nationality text)''')\n",
        "connectionToDatabase.commit()"
      ],
      "execution_count": 0,
      "outputs": []
    },
    {
      "cell_type": "code",
      "metadata": {
        "id": "Ou8_ScLMb0c3",
        "colab_type": "code",
        "colab": {}
      },
      "source": [
        "cursor.execute('''create table IF NOT EXISTS Billboard (chart text PRIMARY KEY, songs text, artist text, album text, ranking text, genre text)''')\n",
        "connectionToDatabase.commit()"
      ],
      "execution_count": 0,
      "outputs": []
    },
    {
      "cell_type": "code",
      "metadata": {
        "id": "hmkZ4WRPLg_R",
        "colab_type": "code",
        "colab": {}
      },
      "source": [
        "cursor.execute('''insert into Songs values ('Sober', 'Demi Lovato', 'Tell Me You Love Me', 'Hollywood Records', '2018', 56, 'Pop', 150000, 20000)''')\n",
        "connectionToDatabase.commit()"
      ],
      "execution_count": 0,
      "outputs": []
    },
    {
      "cell_type": "code",
      "metadata": {
        "id": "H2G3ZkNsQpI8",
        "colab_type": "code",
        "colab": {}
      },
      "source": [
        "cursor.execute('''insert into Songs values ('Do Re Mi', 'Blackbear', 'Digital Druglord', 'Interscope Records', '2017', 40, 'R&B, Soul', 160000, 50000)''')\n",
        "connectionToDatabase.commit()"
      ],
      "execution_count": 0,
      "outputs": []
    },
    {
      "cell_type": "code",
      "metadata": {
        "id": "rQEZzLzkRaNp",
        "colab_type": "code",
        "colab": {}
      },
      "source": [
        "cursor.execute('''insert into Songs values ('Purple Lamborghini', 'Rick Ross', 'Purple Lamborghini', 'Atlantic Records', '2016', 33, 'Trap, Dubstep, Rock', 1000000, 150000)''')\n",
        "connectionToDatabase.commit()"
      ],
      "execution_count": 0,
      "outputs": []
    },
    {
      "cell_type": "code",
      "metadata": {
        "id": "T_gky5HYSC_Y",
        "colab_type": "code",
        "colab": {}
      },
      "source": [
        "cursor.execute('''insert into Songs values ('Follow God', 'Kanye West', 'Jesus is King', 'GOOD Music', '2019', 4, 'Rap', 175000, 25000)''')\n",
        "connectionToDatabase.commit()"
      ],
      "execution_count": 0,
      "outputs": []
    },
    {
      "cell_type": "code",
      "metadata": {
        "id": "cWFpJRnPugbe",
        "colab_type": "code",
        "colab": {}
      },
      "source": [
        "cursor.execute('''insert into Songs values ('Look at Her Now', 'Selena Gomez', 'Look at Her Now', 'Interscope Records', '2019', 7, 'Pop', 1200000, 160000)''')\n",
        "connectionToDatabase.commit()"
      ],
      "execution_count": 0,
      "outputs": []
    },
    {
      "cell_type": "code",
      "metadata": {
        "id": "-gbuafvLSlQ-",
        "colab_type": "code",
        "colab": {}
      },
      "source": [
        "cursor.execute('''insert into Artists values ('Demi Lovato', 'Female', '1992-08-20', 'American')''')\n",
        "connectionToDatabase.commit()"
      ],
      "execution_count": 0,
      "outputs": []
    },
    {
      "cell_type": "code",
      "metadata": {
        "id": "aay18LO-S0GF",
        "colab_type": "code",
        "colab": {}
      },
      "source": [
        "cursor.execute('''insert into Artists values ('Blackbear', 'Male', '1990-11-27', 'American')''')\n",
        "connectionToDatabase.commit()"
      ],
      "execution_count": 0,
      "outputs": []
    },
    {
      "cell_type": "code",
      "metadata": {
        "id": "gScNh1_wS_o5",
        "colab_type": "code",
        "colab": {}
      },
      "source": [
        "cursor.execute('''insert into Artists values ('Rick Ross', 'Male', '1976-01-28', 'American')''')\n",
        "connectionToDatabase.commit()"
      ],
      "execution_count": 0,
      "outputs": []
    },
    {
      "cell_type": "code",
      "metadata": {
        "id": "tbbwRivwTNKr",
        "colab_type": "code",
        "colab": {}
      },
      "source": [
        "cursor.execute('''insert into Artists values ('Kanye West', 'Male', '1977-06-08', 'American')''')\n",
        "connectionToDatabase.commit()"
      ],
      "execution_count": 0,
      "outputs": []
    },
    {
      "cell_type": "code",
      "metadata": {
        "id": "sjshKiq7u-D4",
        "colab_type": "code",
        "colab": {}
      },
      "source": [
        "cursor.execute('''insert into Artists values ('Selena Gomez', 'Female', '1992-22-07', 'American')''')\n",
        "connectionToDatabase.commit()"
      ],
      "execution_count": 0,
      "outputs": []
    },
    {
      "cell_type": "code",
      "metadata": {
        "id": "t6wq0j6tTnLb",
        "colab_type": "code",
        "colab": {}
      },
      "source": [
        "cursor.execute('''insert into Albums values ('Tell Me You Love Me', 'Demi Lovato', 'Hollywood Records', '2017')''')\n",
        "connectionToDatabase.commit()"
      ],
      "execution_count": 0,
      "outputs": []
    },
    {
      "cell_type": "code",
      "metadata": {
        "id": "6G2Qd9eTTyUt",
        "colab_type": "code",
        "colab": {}
      },
      "source": [
        "cursor.execute('''insert into Albums values ('Digital Druglord', 'Blackbear', 'Interscope Records', '2017')''')\n",
        "connectionToDatabase.commit()"
      ],
      "execution_count": 0,
      "outputs": []
    },
    {
      "cell_type": "code",
      "metadata": {
        "id": "0iJAUtzGT8G6",
        "colab_type": "code",
        "colab": {}
      },
      "source": [
        "cursor.execute('''insert into Albums values ('Purple Lamborghini', 'Rick Ross', 'Atlantic Records', '2016')''')\n",
        "connectionToDatabase.commit()"
      ],
      "execution_count": 0,
      "outputs": []
    },
    {
      "cell_type": "code",
      "metadata": {
        "id": "3K9ZoPuuUHQw",
        "colab_type": "code",
        "colab": {}
      },
      "source": [
        "cursor.execute('''insert into Albums values ('Jesus is King', 'Kanye West', 'GOOD Music', '2019')''')\n",
        "connectionToDatabase.commit()"
      ],
      "execution_count": 0,
      "outputs": []
    },
    {
      "cell_type": "code",
      "metadata": {
        "id": "ZFKfVLTFvI7D",
        "colab_type": "code",
        "colab": {}
      },
      "source": [
        "cursor.execute('''insert into Albums values ('Look at Her Now', 'Selena Gomez', 'Interscope Records', '2019')''')\n",
        "connectionToDatabase.commit()"
      ],
      "execution_count": 0,
      "outputs": []
    },
    {
      "cell_type": "markdown",
      "metadata": {
        "id": "ve1DTJvGxJaq",
        "colab_type": "text"
      },
      "source": [
        "### What are the most streamed songs for a specific genre?"
      ]
    },
    {
      "cell_type": "code",
      "metadata": {
        "id": "2Kb7zlxhwNz_",
        "colab_type": "code",
        "outputId": "1ed8ef4b-5420-4a7b-e58b-c55f2f85fa87",
        "colab": {
          "base_uri": "https://localhost:8080/",
          "height": 34
        }
      },
      "source": [
        "cursor.execute('''SELECT songTitle FROM Songs WHERE genre = 'Rap' GROUP BY genre ORDER BY streams DESC''' )\n",
        "for row in cursor.fetchall():\n",
        "  print (row)"
      ],
      "execution_count": 0,
      "outputs": [
        {
          "output_type": "stream",
          "text": [
            "('Follow God',)\n"
          ],
          "name": "stdout"
        }
      ]
    },
    {
      "cell_type": "markdown",
      "metadata": {
        "id": "W54lXZExxwwB",
        "colab_type": "text"
      },
      "source": [
        "### What are the top 5 most streamed songs for 2016?\n"
      ]
    },
    {
      "cell_type": "code",
      "metadata": {
        "id": "hoxb9JIUxSfD",
        "colab_type": "code",
        "outputId": "35d1273b-4db5-4df5-f80a-84e6d92043d9",
        "colab": {
          "base_uri": "https://localhost:8080/",
          "height": 34
        }
      },
      "source": [
        "cursor.execute('''SELECT songTitle FROM Songs WHERE releaseDate = '2016' ORDER BY streams DESC LIMIT 5''' )\n",
        "for row in cursor.fetchall():\n",
        "  print (row)"
      ],
      "execution_count": 0,
      "outputs": [
        {
          "output_type": "stream",
          "text": [
            "('Purple Lamborghini',)\n"
          ],
          "name": "stdout"
        }
      ]
    },
    {
      "cell_type": "markdown",
      "metadata": {
        "id": "orBRq07n1bWt",
        "colab_type": "text"
      },
      "source": [
        "### List all artists of the genre Pop with no repeats."
      ]
    },
    {
      "cell_type": "code",
      "metadata": {
        "id": "gWpZ3Jllz2xQ",
        "colab_type": "code",
        "outputId": "a8703c58-81c3-4a61-d45c-fed8215937c1",
        "colab": {
          "base_uri": "https://localhost:8080/",
          "height": 34
        }
      },
      "source": [
        "cursor.execute('''SELECT artist FROM Songs WHERE genre = 'Pop' GROUP BY genre''' )\n",
        "for row in cursor.fetchall():\n",
        "  print (row)"
      ],
      "execution_count": 0,
      "outputs": [
        {
          "output_type": "stream",
          "text": [
            "('Selena Gomez',)\n"
          ],
          "name": "stdout"
        }
      ]
    },
    {
      "cell_type": "markdown",
      "metadata": {
        "id": "BWXXRj-zKyD_",
        "colab_type": "text"
      },
      "source": [
        "#What are the most streamed songs for a specific genre?\n",
        "We chose this question because we are interested in the breakdown between what genres are most popular today. With digital streaming, songs can become popular in an instant, and we would like to visualize the trends in what genres are most popular at a given time. We chose the rap genre, but the code can be changed to query whatever genre the user wants. \n"
      ]
    },
    {
      "cell_type": "markdown",
      "metadata": {
        "id": "x8hYwYrsGGi6",
        "colab_type": "text"
      },
      "source": [
        "\n",
        "#What are the top 5 most streamed songs in 2016?\n",
        "\n",
        "Similar to our last question, this will allow us to see trends over time. This will allow us to compare the performance of different artists, or more broadly, genres year to year. Understanding this information can be useful to understanding trends in the industry as to what genres were popular and what has fallen out of style. \n"
      ]
    },
    {
      "cell_type": "markdown",
      "metadata": {
        "id": "0CTw36o7GKxa",
        "colab_type": "text"
      },
      "source": [
        "#What artists are listed under the pop genre?\n",
        "\n",
        "While we used the pop genre specifically, this type of query can be used to identify different artists in different genres depending on what the user wants. This can be used to compare the various artists from the many genres contained on the Billboard Hot 100. It is also useful for exploring artists that a user might not be aware of in a particular genre that they enjoy. \n"
      ]
    }
  ]
}